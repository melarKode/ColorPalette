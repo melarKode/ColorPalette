{
 "cells": [
  {
   "cell_type": "code",
   "execution_count": 9,
   "id": "20d7c9f1-5910-4a6b-b1f6-9720d9c4fda3",
   "metadata": {},
   "outputs": [],
   "source": [
    "import numpy as np\n",
    "from PIL import Image\n",
    "from math import floor\n",
    "import matplotlib.pyplot as plt"
   ]
  },
  {
   "cell_type": "code",
   "execution_count": 11,
   "id": "8e788087-13fd-41c5-9625-64541323aa38",
   "metadata": {},
   "outputs": [],
   "source": [
    "class Pixel:\n",
    "    def __init__(self, r, g, b):\n",
    "        self.r = r\n",
    "        self.g = g\n",
    "        self.b = b\n",
    "        r, g, b = r/255, g/255, b/255\n",
    "        minimum = np.min([r,g,b])\n",
    "        maximum = np.max([r,g,b])\n",
    "        if(maximum==r):\n",
    "            hue = (g-b)/(maximum-minimum)\n",
    "        elif(maximum==g):\n",
    "            hue = 2+ (b-r)/(maximum-minimum)\n",
    "        else:\n",
    "            hue = 4+(r-g)/(maximum-minimum)\n",
    "        self.hue = hue*60\n",
    "        self.lum = 0.299*r + 0.587*g + 0.114*b\n",
    "        if(self.hue>0):\n",
    "            self.hue = floor(hue)\n",
    "        else:\n",
    "            self.hue = floor(360+hue)\n",
    "    \n",
    "    def hue_distance(self,pixel1):\n",
    "        ans = min(abs(pixel1.hue-self.hue), 360-abs(pixel1.hue-self.hue))\n",
    "        return ans\n",
    "\n",
    "    def euclid_distance(self, pixel1):\n",
    "        return np.sqrt((self.r - pixel1.r)**2 + (self.g - pixel1.g)**2 + (self.b - pixel1.b)**2)\n",
    "    \n",
    "    def average(self,pixel1):\n",
    "        return Pixel((self.r+pixel1.r)/2,(self.g+pixel1.g)/2,(self.b+pixel1.b)/2)\n",
    "    \n",
    "    def sum(self, pixel1):\n",
    "        self.c+=1\n",
    "        return Pixel(self.r+pixel1.r,self.g+pixel1.g,self.b+pixel1.b)\n",
    "    \n",
    "    def div(self):\n",
    "        self.r,self.g,self.b = self.r/self.c,self.g/self.c,self.b/self.c\n",
    "    \n",
    "    def print(self):\n",
    "        print(f\"R: {self.r} G: {self.g} B: {self.b}\")\n",
    "        \n",
    "    def value(self):\n",
    "        return [self.r,self.g,self.b]\n",
    "    def __lt__(self, pixel1):\n",
    "        if self.r>pixel1.r:\n",
    "            return True\n",
    "        else:\n",
    "            return False\n",
    "\n",
    "    "
   ]
  },
  {
   "cell_type": "code",
   "execution_count": 12,
   "id": "4f7e2a1c-2f45-4b9c-8b3c-a28cf8e61647",
   "metadata": {},
   "outputs": [],
   "source": [
    "class Picture:\n",
    "    def __init__(self):\n",
    "        pass\n",
    "\n",
    "    def load_pixels(self, path):\n",
    "        im = Image.open(path)\n",
    "        self.pixels = list(im.getdata())\n",
    "        self.width, self.height = im.size\n",
    "        self.mode = im.mode\n",
    "\n",
    "    def convert_pixels(self):\n",
    "        self.pixels = np.array(self.pixels)\n",
    "        if self.mode == \"RGB\":\n",
    "            self.channels = 3\n",
    "        elif self.mode == \"RGBA\":\n",
    "            self.channels = 4\n",
    "        else:\n",
    "            self.channels = 1\n",
    "        self.pixels = self.pixels.reshape(\n",
    "            (self.height, self.width, self.channels))\n"
   ]
  },
  {
   "cell_type": "code",
   "execution_count": 13,
   "id": "bc74f186-7f29-4e33-9aae-ea5254d3a206",
   "metadata": {},
   "outputs": [],
   "source": [
    "class Palette:\n",
    "    def __init__(self):\n",
    "        self.palette = []\n",
    "        self.count = []\n",
    "        self.cutoff=1\n",
    "\n",
    "    def generate_palette(self, picture):\n",
    "        pixels = picture.pixels\n",
    "        print(pixels.shape)\n",
    "        for i in range(pixels.shape[0]):\n",
    "            for j in range(pixels.shape[1]):\n",
    "                pixel = Pixel(pixels[i][j][0],pixels[i][j][1],pixels[i][j][2])\n",
    "                min = [-1,self.cutoff]\n",
    "                for k in range(len(self.palette)):\n",
    "                    dis = self.palette[k].hue_distance(pixel)\n",
    "                    if(dis<=min[1]):\n",
    "                        min[0] = k\n",
    "                        min[1] = dis\n",
    "                if(min[0]!=-1):\n",
    "                    self.palette[min[0]] = self.palette[min[0]].average(pixel)\n",
    "                    self.count[min[0]] = self.count[min[0]]+1\n",
    "                else:\n",
    "                    self.palette.append(pixel)\n",
    "                    self.count.append(1)\n",
    "    '''\n",
    "    def sort_count(self):\n",
    "        self.count,self.palette = (list(t) for t in zip(*sorted(zip(self.count,self.palette))))\n",
    "        \n",
    "    def sort_hue(self):\n",
    "        self.hue,self.palette = (list(t) for t in zip(*sorted(zip(self.hue,self.palette))))\n",
    "    \n",
    "    def sort_lum(self):\n",
    "        self.lum,self.palette = (list(t) for t in zip(*sorted(zip(self.lum,self.palette))))\n",
    "    '''\n",
    "                    \n",
    "    def print_palette(self):\n",
    "        self.im = Image.new(mode=\"RGB\",size=(100*len(self.palette),200))\n",
    "        for i, color in enumerate(self.palette):\n",
    "            self.im.paste((floor(color.r),floor(color.g),floor(color.b)),(i*100, 0, (i+1)*100, 200))\n",
    "        self.im.show()\n",
    "        \n",
    "            "
   ]
  },
  {
   "cell_type": "code",
   "execution_count": 14,
   "id": "8e238777-34b6-46cb-bed3-e9018105db75",
   "metadata": {
    "tags": []
   },
   "outputs": [
    {
     "name": "stdout",
     "output_type": "stream",
     "text": [
      "(512, 512, 3)\n"
     ]
    }
   ],
   "source": [
    "image = Picture()\n",
    "image.load_pixels(\"lenna.png\")\n",
    "image.convert_pixels()\n",
    "palette = Palette()\n",
    "palette.generate_palette(image)\n",
    "palette.print_palette()"
   ]
  },
  {
   "cell_type": "code",
   "execution_count": null,
   "id": "fcb4ad54-fcc3-40a0-af97-46da20708edc",
   "metadata": {
    "tags": []
   },
   "outputs": [],
   "source": [
    "class Histogram:\n",
    "    def __init__(self,image):\n",
    "        self.w, self.h = image.size\n",
    "        self.colors = image.getcolors(self.w*self.h)\n",
    "    def hexencode(self,rgb):\n",
    "        r=rgb[0]\n",
    "        g=rgb[1]\n",
    "        b=rgb[2]\n",
    "        return '#%02x%02x%02x' % (r,g,b)\n",
    "    def generate(self):\n",
    "        print(len(self.colors))\n",
    "        for idx,c in enumerate(self.colors):\n",
    "            plt.bar(idx,c[0],color=self.hexencode(c[1]))\n",
    "            print(idx, end=' ')\n",
    "        plt.show()"
   ]
  },
  {
   "cell_type": "code",
   "execution_count": null,
   "id": "e13e1d0c-c8d3-4d37-8d2e-d9b4fd16d754",
   "metadata": {},
   "outputs": [],
   "source": []
  }
 ],
 "metadata": {
  "kernelspec": {
   "display_name": "Python 3",
   "language": "python",
   "name": "python3"
  },
  "language_info": {
   "codemirror_mode": {
    "name": "ipython",
    "version": 3
   },
   "file_extension": ".py",
   "mimetype": "text/x-python",
   "name": "python",
   "nbconvert_exporter": "python",
   "pygments_lexer": "ipython3",
   "version": "3.9.5"
  }
 },
 "nbformat": 4,
 "nbformat_minor": 5
}
