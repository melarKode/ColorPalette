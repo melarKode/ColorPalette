{
 "cells": [
  {
   "cell_type": "code",
   "execution_count": 118,
   "id": "20d7c9f1-5910-4a6b-b1f6-9720d9c4fda3",
   "metadata": {},
   "outputs": [],
   "source": [
    "import numpy as np\n",
    "from PIL import Image\n",
    "from math import floor"
   ]
  },
  {
   "cell_type": "code",
   "execution_count": 112,
   "id": "8e788087-13fd-41c5-9625-64541323aa38",
   "metadata": {},
   "outputs": [],
   "source": [
    "class Pixel:\n",
    "    def __init__(self, r, g, b):\n",
    "        self.r = r\n",
    "        self.g = g\n",
    "        self.b = b\n",
    "        self.c = 1\n",
    "\n",
    "    def euclid_distance(self, pixel1):\n",
    "        return np.sqrt((self.r - pixel1.r)**2 + (self.g - pixel1.g)**2 + (self.b - pixel1.b)**2)\n",
    "    \n",
    "    def average(self,pixel1):\n",
    "        return Pixel((self.r+pixel1.r)/2,(self.g+pixel1.g)/2,(self.b+pixel1.b)/2)\n",
    "    \n",
    "    def sum(self, pixel1):\n",
    "        self.c+=1\n",
    "        return Pixel(self.r+pixel1.r,self.g+pixel1.g,self.b+pixel1.b)\n",
    "    \n",
    "    def div(self):\n",
    "        self.r,self.g,self.b = self.r/self.c,self.g/self.c,self.b/self.c\n",
    "    \n",
    "    def print(self):\n",
    "        print(f\"R: {self.r} G: {self.g} B: {self.b}\")\n",
    "        \n",
    "    def value(self):\n",
    "        return [self.r,self.g,self.b]\n",
    "\n",
    "    "
   ]
  },
  {
   "cell_type": "code",
   "execution_count": 74,
   "id": "4f7e2a1c-2f45-4b9c-8b3c-a28cf8e61647",
   "metadata": {},
   "outputs": [],
   "source": [
    "class Picture:\n",
    "    def __init__(self):\n",
    "        pass\n",
    "\n",
    "    def load_pixels(self, path):\n",
    "        im = Image.open(path)\n",
    "        self.pixels = list(im.getdata())\n",
    "        self.width, self.height = im.size\n",
    "        self.mode = im.mode\n",
    "\n",
    "    def convert_pixels(self):\n",
    "        self.pixels = np.array(self.pixels)\n",
    "        if self.mode == \"RGB\":\n",
    "            self.channels = 3\n",
    "        elif self.mode == \"RGBA\":\n",
    "            self.channels = 4\n",
    "        else:\n",
    "            self.channels = 1\n",
    "        self.pixels = self.pixels.reshape(\n",
    "            (self.height, self.width, self.channels))\n"
   ]
  },
  {
   "cell_type": "code",
   "execution_count": 123,
   "id": "bc74f186-7f29-4e33-9aae-ea5254d3a206",
   "metadata": {},
   "outputs": [],
   "source": [
    "class Palette:\n",
    "    def __init__(self):\n",
    "        self.palette = []\n",
    "        self.count = []\n",
    "        self.cutoff=75\n",
    "\n",
    "    def generate_palette(self, picture):\n",
    "        pixels = picture.pixels\n",
    "        print(pixels.shape)\n",
    "        for i in range(pixels.shape[0]):\n",
    "            for j in range(pixels.shape[1]):\n",
    "                pixel = Pixel(pixels[i][j][0],pixels[i][j][1],pixels[i][j][2])\n",
    "                min = [-1,self.cutoff]\n",
    "                for k in range(len(self.palette)):\n",
    "                    dis = self.palette[k].euclid_distance(pixel)\n",
    "                    if(dis<=min[1]):\n",
    "                        min[0] = k\n",
    "                        min[1] = dis\n",
    "                if(min[0]!=-1):\n",
    "                    self.palette[min[0]] = self.palette[min[0]].average(pixel)\n",
    "                    self.count[min[0]] = self.count[min[0]]+1\n",
    "                else:\n",
    "                    self.palette.append(pixel)\n",
    "                    self.count.append(1)\n",
    "    \n",
    "    def sort_palette(self):\n",
    "        self.count,self.palette = (list(t) for t in zip(*sorted(zip(self.count,self.palette))))\n",
    "                    \n",
    "    def print_palette(self):\n",
    "        print(self.count)\n",
    "        self.im = Image.new(mode=\"RGB\",size=(100*len(self.palette),200))\n",
    "        for i, color in enumerate(self.palette):\n",
    "            self.im.paste((floor(color.r),floor(color.g),floor(color.b)),(i*100, 0, (i+1)*100, 200))\n",
    "        self.im.show()\n",
    "            "
   ]
  },
  {
   "cell_type": "code",
   "execution_count": 124,
   "id": "8e238777-34b6-46cb-bed3-e9018105db75",
   "metadata": {
    "tags": []
   },
   "outputs": [
    {
     "name": "stdout",
     "output_type": "stream",
     "text": [
      "(1280, 960, 3)\n",
      "[744, 3182, 17773, 19821, 20789, 21563, 22918, 23690, 23846, 24819, 25173, 25789, 25797, 26500, 26819, 28288, 32439, 35260, 35631, 38320, 38850, 42302, 44852, 45102, 46546, 48355, 50047, 50221, 51423, 51923, 54034, 55090, 55923, 55947, 59024]\n"
     ]
    }
   ],
   "source": [
    "image = Picture()\n",
    "image.load_pixels(\"varun.jpeg\")\n",
    "image.convert_pixels()\n",
    "palette = Palette()\n",
    "palette.generate_palette(image)\n",
    "palette.sort_palette()\n",
    "palette.print_palette()"
   ]
  },
  {
   "cell_type": "code",
   "execution_count": null,
   "id": "fcb4ad54-fcc3-40a0-af97-46da20708edc",
   "metadata": {},
   "outputs": [],
   "source": []
  }
 ],
 "metadata": {
  "kernelspec": {
   "display_name": "Python 3",
   "language": "python",
   "name": "python3"
  },
  "language_info": {
   "codemirror_mode": {
    "name": "ipython",
    "version": 3
   },
   "file_extension": ".py",
   "mimetype": "text/x-python",
   "name": "python",
   "nbconvert_exporter": "python",
   "pygments_lexer": "ipython3",
   "version": "3.9.5"
  }
 },
 "nbformat": 4,
 "nbformat_minor": 5
}
